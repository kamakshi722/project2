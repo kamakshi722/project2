{
 "cells": [
  {
   "cell_type": "code",
   "execution_count": 64,
   "id": "7af5d6e3",
   "metadata": {},
   "outputs": [],
   "source": [
    "import pandas as pd\n",
    "import numpy as np\n",
    "import matplotlib.pyplot as plt\n",
    "import os"
   ]
  },
  {
   "cell_type": "code",
   "execution_count": 7,
   "id": "d7b41419",
   "metadata": {},
   "outputs": [],
   "source": [
    "filess = [file for file in os.listdir('C:/Users/kamak/Downloads/Sales_Data-20230323T205635Z-001/Sales_Data')]"
   ]
  },
  {
   "cell_type": "code",
   "execution_count": 8,
   "id": "114df120",
   "metadata": {},
   "outputs": [
    {
     "name": "stdout",
     "output_type": "stream",
     "text": [
      "Sales_April_2019.csv\n",
      "Sales_August_2019.csv\n",
      "Sales_December_2019.csv\n",
      "Sales_February_2019.csv\n",
      "Sales_January_2019.csv\n",
      "Sales_July_2019.csv\n",
      "Sales_June_2019.csv\n",
      "Sales_March_2019.csv\n",
      "Sales_May_2019.csv\n",
      "Sales_November_2019.csv\n",
      "Sales_October_2019.csv\n",
      "Sales_September_2019.csv\n"
     ]
    }
   ],
   "source": [
    "for file in filess:\n",
    "    print(file)"
   ]
  },
  {
   "cell_type": "code",
   "execution_count": 9,
   "id": "d0165f60",
   "metadata": {},
   "outputs": [],
   "source": [
    "path = 'C:/Users/kamak/Downloads/Sales_Data-20230325T073232Z-001/Sales_Data'\n",
    "all_data = pd.DataFrame()\n",
    "for file in filess:\n",
    "    current_df = pd.read_csv(path+ \"/\" +file)\n",
    "    all_data = pd.concat([all_data,current_df])"
   ]
  },
  {
   "cell_type": "code",
   "execution_count": 10,
   "id": "5ceb5f4d",
   "metadata": {},
   "outputs": [
    {
     "data": {
      "text/plain": [
       "(186850, 6)"
      ]
     },
     "execution_count": 10,
     "metadata": {},
     "output_type": "execute_result"
    }
   ],
   "source": [
    "all_data.shape"
   ]
  },
  {
   "cell_type": "code",
   "execution_count": 11,
   "id": "123fef68",
   "metadata": {},
   "outputs": [],
   "source": [
    "all_data.to_csv('C:/Users/kamak/Downloads/Sales_Data-20230325T073232Z-001/Sales_Data/all_data.csv',index = False)"
   ]
  },
  {
   "cell_type": "code",
   "execution_count": 12,
   "id": "cdc69ecd",
   "metadata": {},
   "outputs": [],
   "source": [
    "\n",
    "############# ANALYZING MONTHLY SALES ################\n",
    "\n"
   ]
  },
  {
   "cell_type": "code",
   "execution_count": 13,
   "id": "f0d6fb87",
   "metadata": {},
   "outputs": [
    {
     "data": {
      "text/html": [
       "<div>\n",
       "<style scoped>\n",
       "    .dataframe tbody tr th:only-of-type {\n",
       "        vertical-align: middle;\n",
       "    }\n",
       "\n",
       "    .dataframe tbody tr th {\n",
       "        vertical-align: top;\n",
       "    }\n",
       "\n",
       "    .dataframe thead th {\n",
       "        text-align: right;\n",
       "    }\n",
       "</style>\n",
       "<table border=\"1\" class=\"dataframe\">\n",
       "  <thead>\n",
       "    <tr style=\"text-align: right;\">\n",
       "      <th></th>\n",
       "      <th>Order ID</th>\n",
       "      <th>Product</th>\n",
       "      <th>Quantity Ordered</th>\n",
       "      <th>Price Each</th>\n",
       "      <th>Order Date</th>\n",
       "      <th>Purchase Address</th>\n",
       "    </tr>\n",
       "  </thead>\n",
       "  <tbody>\n",
       "    <tr>\n",
       "      <th>0</th>\n",
       "      <td>176558</td>\n",
       "      <td>USB-C Charging Cable</td>\n",
       "      <td>2</td>\n",
       "      <td>11.95</td>\n",
       "      <td>04/19/19 08:46</td>\n",
       "      <td>917 1st St, Dallas, TX 75001</td>\n",
       "    </tr>\n",
       "    <tr>\n",
       "      <th>1</th>\n",
       "      <td>NaN</td>\n",
       "      <td>NaN</td>\n",
       "      <td>NaN</td>\n",
       "      <td>NaN</td>\n",
       "      <td>NaN</td>\n",
       "      <td>NaN</td>\n",
       "    </tr>\n",
       "    <tr>\n",
       "      <th>2</th>\n",
       "      <td>176559</td>\n",
       "      <td>Bose SoundSport Headphones</td>\n",
       "      <td>1</td>\n",
       "      <td>99.99</td>\n",
       "      <td>04/07/19 22:30</td>\n",
       "      <td>682 Chestnut St, Boston, MA 02215</td>\n",
       "    </tr>\n",
       "    <tr>\n",
       "      <th>3</th>\n",
       "      <td>176560</td>\n",
       "      <td>Google Phone</td>\n",
       "      <td>1</td>\n",
       "      <td>600</td>\n",
       "      <td>04/12/19 14:38</td>\n",
       "      <td>669 Spruce St, Los Angeles, CA 90001</td>\n",
       "    </tr>\n",
       "    <tr>\n",
       "      <th>4</th>\n",
       "      <td>176560</td>\n",
       "      <td>Wired Headphones</td>\n",
       "      <td>1</td>\n",
       "      <td>11.99</td>\n",
       "      <td>04/12/19 14:38</td>\n",
       "      <td>669 Spruce St, Los Angeles, CA 90001</td>\n",
       "    </tr>\n",
       "  </tbody>\n",
       "</table>\n",
       "</div>"
      ],
      "text/plain": [
       "  Order ID                     Product Quantity Ordered Price Each  \\\n",
       "0   176558        USB-C Charging Cable                2      11.95   \n",
       "1      NaN                         NaN              NaN        NaN   \n",
       "2   176559  Bose SoundSport Headphones                1      99.99   \n",
       "3   176560                Google Phone                1        600   \n",
       "4   176560            Wired Headphones                1      11.99   \n",
       "\n",
       "       Order Date                      Purchase Address  \n",
       "0  04/19/19 08:46          917 1st St, Dallas, TX 75001  \n",
       "1             NaN                                   NaN  \n",
       "2  04/07/19 22:30     682 Chestnut St, Boston, MA 02215  \n",
       "3  04/12/19 14:38  669 Spruce St, Los Angeles, CA 90001  \n",
       "4  04/12/19 14:38  669 Spruce St, Los Angeles, CA 90001  "
      ]
     },
     "execution_count": 13,
     "metadata": {},
     "output_type": "execute_result"
    }
   ],
   "source": [
    "all_data.head()"
   ]
  },
  {
   "cell_type": "code",
   "execution_count": 15,
   "id": "9a70cdc7",
   "metadata": {},
   "outputs": [
    {
     "data": {
      "text/plain": [
       "Order ID            545\n",
       "Product             545\n",
       "Quantity Ordered    545\n",
       "Price Each          545\n",
       "Order Date          545\n",
       "Purchase Address    545\n",
       "dtype: int64"
      ]
     },
     "execution_count": 15,
     "metadata": {},
     "output_type": "execute_result"
    }
   ],
   "source": [
    "all_data.isnull().sum()"
   ]
  },
  {
   "cell_type": "code",
   "execution_count": 16,
   "id": "ebacf7f5",
   "metadata": {},
   "outputs": [],
   "source": [
    "all_data.dropna(inplace=True)"
   ]
  },
  {
   "cell_type": "code",
   "execution_count": 17,
   "id": "53b99348",
   "metadata": {},
   "outputs": [
    {
     "data": {
      "text/plain": [
       "Order ID            0\n",
       "Product             0\n",
       "Quantity Ordered    0\n",
       "Price Each          0\n",
       "Order Date          0\n",
       "Purchase Address    0\n",
       "dtype: int64"
      ]
     },
     "execution_count": 17,
     "metadata": {},
     "output_type": "execute_result"
    }
   ],
   "source": [
    "all_data.isnull().sum()"
   ]
  },
  {
   "cell_type": "code",
   "execution_count": 18,
   "id": "c4d31992",
   "metadata": {},
   "outputs": [
    {
     "data": {
      "text/html": [
       "<div>\n",
       "<style scoped>\n",
       "    .dataframe tbody tr th:only-of-type {\n",
       "        vertical-align: middle;\n",
       "    }\n",
       "\n",
       "    .dataframe tbody tr th {\n",
       "        vertical-align: top;\n",
       "    }\n",
       "\n",
       "    .dataframe thead th {\n",
       "        text-align: right;\n",
       "    }\n",
       "</style>\n",
       "<table border=\"1\" class=\"dataframe\">\n",
       "  <thead>\n",
       "    <tr style=\"text-align: right;\">\n",
       "      <th></th>\n",
       "      <th>Order ID</th>\n",
       "      <th>Product</th>\n",
       "      <th>Quantity Ordered</th>\n",
       "      <th>Price Each</th>\n",
       "      <th>Order Date</th>\n",
       "      <th>Purchase Address</th>\n",
       "    </tr>\n",
       "  </thead>\n",
       "  <tbody>\n",
       "    <tr>\n",
       "      <th>0</th>\n",
       "      <td>176558</td>\n",
       "      <td>USB-C Charging Cable</td>\n",
       "      <td>2</td>\n",
       "      <td>11.95</td>\n",
       "      <td>04/19/19 08:46</td>\n",
       "      <td>917 1st St, Dallas, TX 75001</td>\n",
       "    </tr>\n",
       "    <tr>\n",
       "      <th>2</th>\n",
       "      <td>176559</td>\n",
       "      <td>Bose SoundSport Headphones</td>\n",
       "      <td>1</td>\n",
       "      <td>99.99</td>\n",
       "      <td>04/07/19 22:30</td>\n",
       "      <td>682 Chestnut St, Boston, MA 02215</td>\n",
       "    </tr>\n",
       "    <tr>\n",
       "      <th>3</th>\n",
       "      <td>176560</td>\n",
       "      <td>Google Phone</td>\n",
       "      <td>1</td>\n",
       "      <td>600</td>\n",
       "      <td>04/12/19 14:38</td>\n",
       "      <td>669 Spruce St, Los Angeles, CA 90001</td>\n",
       "    </tr>\n",
       "    <tr>\n",
       "      <th>4</th>\n",
       "      <td>176560</td>\n",
       "      <td>Wired Headphones</td>\n",
       "      <td>1</td>\n",
       "      <td>11.99</td>\n",
       "      <td>04/12/19 14:38</td>\n",
       "      <td>669 Spruce St, Los Angeles, CA 90001</td>\n",
       "    </tr>\n",
       "    <tr>\n",
       "      <th>5</th>\n",
       "      <td>176561</td>\n",
       "      <td>Wired Headphones</td>\n",
       "      <td>1</td>\n",
       "      <td>11.99</td>\n",
       "      <td>04/30/19 09:27</td>\n",
       "      <td>333 8th St, Los Angeles, CA 90001</td>\n",
       "    </tr>\n",
       "    <tr>\n",
       "      <th>6</th>\n",
       "      <td>176562</td>\n",
       "      <td>USB-C Charging Cable</td>\n",
       "      <td>1</td>\n",
       "      <td>11.95</td>\n",
       "      <td>04/29/19 13:03</td>\n",
       "      <td>381 Wilson St, San Francisco, CA 94016</td>\n",
       "    </tr>\n",
       "    <tr>\n",
       "      <th>7</th>\n",
       "      <td>176563</td>\n",
       "      <td>Bose SoundSport Headphones</td>\n",
       "      <td>1</td>\n",
       "      <td>99.99</td>\n",
       "      <td>04/02/19 07:46</td>\n",
       "      <td>668 Center St, Seattle, WA 98101</td>\n",
       "    </tr>\n",
       "    <tr>\n",
       "      <th>8</th>\n",
       "      <td>176564</td>\n",
       "      <td>USB-C Charging Cable</td>\n",
       "      <td>1</td>\n",
       "      <td>11.95</td>\n",
       "      <td>04/12/19 10:58</td>\n",
       "      <td>790 Ridge St, Atlanta, GA 30301</td>\n",
       "    </tr>\n",
       "    <tr>\n",
       "      <th>9</th>\n",
       "      <td>176565</td>\n",
       "      <td>Macbook Pro Laptop</td>\n",
       "      <td>1</td>\n",
       "      <td>1700</td>\n",
       "      <td>04/24/19 10:38</td>\n",
       "      <td>915 Willow St, San Francisco, CA 94016</td>\n",
       "    </tr>\n",
       "    <tr>\n",
       "      <th>10</th>\n",
       "      <td>176566</td>\n",
       "      <td>Wired Headphones</td>\n",
       "      <td>1</td>\n",
       "      <td>11.99</td>\n",
       "      <td>04/08/19 14:05</td>\n",
       "      <td>83 7th St, Boston, MA 02215</td>\n",
       "    </tr>\n",
       "  </tbody>\n",
       "</table>\n",
       "</div>"
      ],
      "text/plain": [
       "   Order ID                     Product Quantity Ordered Price Each  \\\n",
       "0    176558        USB-C Charging Cable                2      11.95   \n",
       "2    176559  Bose SoundSport Headphones                1      99.99   \n",
       "3    176560                Google Phone                1        600   \n",
       "4    176560            Wired Headphones                1      11.99   \n",
       "5    176561            Wired Headphones                1      11.99   \n",
       "6    176562        USB-C Charging Cable                1      11.95   \n",
       "7    176563  Bose SoundSport Headphones                1      99.99   \n",
       "8    176564        USB-C Charging Cable                1      11.95   \n",
       "9    176565          Macbook Pro Laptop                1       1700   \n",
       "10   176566            Wired Headphones                1      11.99   \n",
       "\n",
       "        Order Date                        Purchase Address  \n",
       "0   04/19/19 08:46            917 1st St, Dallas, TX 75001  \n",
       "2   04/07/19 22:30       682 Chestnut St, Boston, MA 02215  \n",
       "3   04/12/19 14:38    669 Spruce St, Los Angeles, CA 90001  \n",
       "4   04/12/19 14:38    669 Spruce St, Los Angeles, CA 90001  \n",
       "5   04/30/19 09:27       333 8th St, Los Angeles, CA 90001  \n",
       "6   04/29/19 13:03  381 Wilson St, San Francisco, CA 94016  \n",
       "7   04/02/19 07:46        668 Center St, Seattle, WA 98101  \n",
       "8   04/12/19 10:58         790 Ridge St, Atlanta, GA 30301  \n",
       "9   04/24/19 10:38  915 Willow St, San Francisco, CA 94016  \n",
       "10  04/08/19 14:05             83 7th St, Boston, MA 02215  "
      ]
     },
     "execution_count": 18,
     "metadata": {},
     "output_type": "execute_result"
    }
   ],
   "source": [
    "all_data.head(10)"
   ]
  },
  {
   "cell_type": "code",
   "execution_count": 19,
   "id": "c02ebad8",
   "metadata": {},
   "outputs": [
    {
     "data": {
      "text/plain": [
       "(186305, 6)"
      ]
     },
     "execution_count": 19,
     "metadata": {},
     "output_type": "execute_result"
    }
   ],
   "source": [
    "all_data.shape"
   ]
  },
  {
   "cell_type": "code",
   "execution_count": 20,
   "id": "1eb7bd59",
   "metadata": {},
   "outputs": [],
   "source": [
    "#to analyze monthly sales we need to extract month from order date\n"
   ]
  },
  {
   "cell_type": "code",
   "execution_count": 21,
   "id": "2057ffde",
   "metadata": {},
   "outputs": [
    {
     "data": {
      "text/plain": [
       "['04', '19', '19 08:46']"
      ]
     },
     "execution_count": 21,
     "metadata": {},
     "output_type": "execute_result"
    }
   ],
   "source": [
    "'04/19/19 08:46'.split('/')"
   ]
  },
  {
   "cell_type": "code",
   "execution_count": 22,
   "id": "16ff9d63",
   "metadata": {},
   "outputs": [],
   "source": [
    "def month(x):\n",
    "    return x.split('/')[0]"
   ]
  },
  {
   "cell_type": "code",
   "execution_count": 23,
   "id": "96502e27",
   "metadata": {},
   "outputs": [],
   "source": [
    "all_data['month']= all_data['Order Date'].apply(month)"
   ]
  },
  {
   "cell_type": "code",
   "execution_count": 24,
   "id": "91b4ba82",
   "metadata": {},
   "outputs": [
    {
     "data": {
      "text/html": [
       "<div>\n",
       "<style scoped>\n",
       "    .dataframe tbody tr th:only-of-type {\n",
       "        vertical-align: middle;\n",
       "    }\n",
       "\n",
       "    .dataframe tbody tr th {\n",
       "        vertical-align: top;\n",
       "    }\n",
       "\n",
       "    .dataframe thead th {\n",
       "        text-align: right;\n",
       "    }\n",
       "</style>\n",
       "<table border=\"1\" class=\"dataframe\">\n",
       "  <thead>\n",
       "    <tr style=\"text-align: right;\">\n",
       "      <th></th>\n",
       "      <th>Order ID</th>\n",
       "      <th>Product</th>\n",
       "      <th>Quantity Ordered</th>\n",
       "      <th>Price Each</th>\n",
       "      <th>Order Date</th>\n",
       "      <th>Purchase Address</th>\n",
       "      <th>month</th>\n",
       "    </tr>\n",
       "  </thead>\n",
       "  <tbody>\n",
       "    <tr>\n",
       "      <th>0</th>\n",
       "      <td>176558</td>\n",
       "      <td>USB-C Charging Cable</td>\n",
       "      <td>2</td>\n",
       "      <td>11.95</td>\n",
       "      <td>04/19/19 08:46</td>\n",
       "      <td>917 1st St, Dallas, TX 75001</td>\n",
       "      <td>04</td>\n",
       "    </tr>\n",
       "    <tr>\n",
       "      <th>2</th>\n",
       "      <td>176559</td>\n",
       "      <td>Bose SoundSport Headphones</td>\n",
       "      <td>1</td>\n",
       "      <td>99.99</td>\n",
       "      <td>04/07/19 22:30</td>\n",
       "      <td>682 Chestnut St, Boston, MA 02215</td>\n",
       "      <td>04</td>\n",
       "    </tr>\n",
       "    <tr>\n",
       "      <th>3</th>\n",
       "      <td>176560</td>\n",
       "      <td>Google Phone</td>\n",
       "      <td>1</td>\n",
       "      <td>600</td>\n",
       "      <td>04/12/19 14:38</td>\n",
       "      <td>669 Spruce St, Los Angeles, CA 90001</td>\n",
       "      <td>04</td>\n",
       "    </tr>\n",
       "    <tr>\n",
       "      <th>4</th>\n",
       "      <td>176560</td>\n",
       "      <td>Wired Headphones</td>\n",
       "      <td>1</td>\n",
       "      <td>11.99</td>\n",
       "      <td>04/12/19 14:38</td>\n",
       "      <td>669 Spruce St, Los Angeles, CA 90001</td>\n",
       "      <td>04</td>\n",
       "    </tr>\n",
       "    <tr>\n",
       "      <th>5</th>\n",
       "      <td>176561</td>\n",
       "      <td>Wired Headphones</td>\n",
       "      <td>1</td>\n",
       "      <td>11.99</td>\n",
       "      <td>04/30/19 09:27</td>\n",
       "      <td>333 8th St, Los Angeles, CA 90001</td>\n",
       "      <td>04</td>\n",
       "    </tr>\n",
       "  </tbody>\n",
       "</table>\n",
       "</div>"
      ],
      "text/plain": [
       "  Order ID                     Product Quantity Ordered Price Each  \\\n",
       "0   176558        USB-C Charging Cable                2      11.95   \n",
       "2   176559  Bose SoundSport Headphones                1      99.99   \n",
       "3   176560                Google Phone                1        600   \n",
       "4   176560            Wired Headphones                1      11.99   \n",
       "5   176561            Wired Headphones                1      11.99   \n",
       "\n",
       "       Order Date                      Purchase Address month  \n",
       "0  04/19/19 08:46          917 1st St, Dallas, TX 75001    04  \n",
       "2  04/07/19 22:30     682 Chestnut St, Boston, MA 02215    04  \n",
       "3  04/12/19 14:38  669 Spruce St, Los Angeles, CA 90001    04  \n",
       "4  04/12/19 14:38  669 Spruce St, Los Angeles, CA 90001    04  \n",
       "5  04/30/19 09:27     333 8th St, Los Angeles, CA 90001    04  "
      ]
     },
     "execution_count": 24,
     "metadata": {},
     "output_type": "execute_result"
    }
   ],
   "source": [
    "all_data.head()"
   ]
  },
  {
   "cell_type": "code",
   "execution_count": 25,
   "id": "1d1d2b1a",
   "metadata": {},
   "outputs": [
    {
     "data": {
      "text/plain": [
       "Order ID            object\n",
       "Product             object\n",
       "Quantity Ordered    object\n",
       "Price Each          object\n",
       "Order Date          object\n",
       "Purchase Address    object\n",
       "month               object\n",
       "dtype: object"
      ]
     },
     "execution_count": 25,
     "metadata": {},
     "output_type": "execute_result"
    }
   ],
   "source": [
    "all_data.dtypes"
   ]
  },
  {
   "cell_type": "code",
   "execution_count": 26,
   "id": "27e38d5a",
   "metadata": {},
   "outputs": [
    {
     "data": {
      "text/plain": [
       "array(['04', '05', 'Order Date', '08', '09', '12', '01', '02', '03', '07',\n",
       "       '06', '11', '10'], dtype=object)"
      ]
     },
     "execution_count": 26,
     "metadata": {},
     "output_type": "execute_result"
    }
   ],
   "source": [
    "all_data['month'].unique()"
   ]
  },
  {
   "cell_type": "code",
   "execution_count": 27,
   "id": "f543617c",
   "metadata": {},
   "outputs": [],
   "source": [
    "filter = all_data['month']=='Order Date'\n",
    "all_data = all_data[~filter]"
   ]
  },
  {
   "cell_type": "code",
   "execution_count": 28,
   "id": "87b65015",
   "metadata": {},
   "outputs": [],
   "source": [
    "all_data['month']=all_data['month'].astype(int)"
   ]
  },
  {
   "cell_type": "code",
   "execution_count": 29,
   "id": "6ee60cce",
   "metadata": {},
   "outputs": [
    {
     "data": {
      "text/plain": [
       "Order ID            object\n",
       "Product             object\n",
       "Quantity Ordered    object\n",
       "Price Each          object\n",
       "Order Date          object\n",
       "Purchase Address    object\n",
       "month                int32\n",
       "dtype: object"
      ]
     },
     "execution_count": 29,
     "metadata": {},
     "output_type": "execute_result"
    }
   ],
   "source": [
    "all_data.dtypes"
   ]
  },
  {
   "cell_type": "code",
   "execution_count": 31,
   "id": "30c96adc",
   "metadata": {},
   "outputs": [],
   "source": [
    "all_data['Quantity Ordered']=all_data['Quantity Ordered'].astype(int)\n",
    "all_data['Price Each']=all_data['Quantity Ordered'].astype(float)"
   ]
  },
  {
   "cell_type": "code",
   "execution_count": 33,
   "id": "6893e2c3",
   "metadata": {},
   "outputs": [
    {
     "data": {
      "text/plain": [
       "Order ID             object\n",
       "Product              object\n",
       "Quantity Ordered      int32\n",
       "Price Each          float64\n",
       "Order Date           object\n",
       "Purchase Address     object\n",
       "month                 int32\n",
       "dtype: object"
      ]
     },
     "execution_count": 33,
     "metadata": {},
     "output_type": "execute_result"
    }
   ],
   "source": [
    "all_data.dtypes"
   ]
  },
  {
   "cell_type": "code",
   "execution_count": 34,
   "id": "d2a91e55",
   "metadata": {},
   "outputs": [],
   "source": [
    "all_data['sales']=all_data['Quantity Ordered']*all_data['Price Each']"
   ]
  },
  {
   "cell_type": "code",
   "execution_count": 35,
   "id": "d5fec083",
   "metadata": {},
   "outputs": [
    {
     "data": {
      "text/html": [
       "<div>\n",
       "<style scoped>\n",
       "    .dataframe tbody tr th:only-of-type {\n",
       "        vertical-align: middle;\n",
       "    }\n",
       "\n",
       "    .dataframe tbody tr th {\n",
       "        vertical-align: top;\n",
       "    }\n",
       "\n",
       "    .dataframe thead th {\n",
       "        text-align: right;\n",
       "    }\n",
       "</style>\n",
       "<table border=\"1\" class=\"dataframe\">\n",
       "  <thead>\n",
       "    <tr style=\"text-align: right;\">\n",
       "      <th></th>\n",
       "      <th>Order ID</th>\n",
       "      <th>Product</th>\n",
       "      <th>Quantity Ordered</th>\n",
       "      <th>Price Each</th>\n",
       "      <th>Order Date</th>\n",
       "      <th>Purchase Address</th>\n",
       "      <th>month</th>\n",
       "      <th>sales</th>\n",
       "    </tr>\n",
       "  </thead>\n",
       "  <tbody>\n",
       "    <tr>\n",
       "      <th>0</th>\n",
       "      <td>176558</td>\n",
       "      <td>USB-C Charging Cable</td>\n",
       "      <td>2</td>\n",
       "      <td>2.0</td>\n",
       "      <td>04/19/19 08:46</td>\n",
       "      <td>917 1st St, Dallas, TX 75001</td>\n",
       "      <td>4</td>\n",
       "      <td>4.0</td>\n",
       "    </tr>\n",
       "    <tr>\n",
       "      <th>2</th>\n",
       "      <td>176559</td>\n",
       "      <td>Bose SoundSport Headphones</td>\n",
       "      <td>1</td>\n",
       "      <td>1.0</td>\n",
       "      <td>04/07/19 22:30</td>\n",
       "      <td>682 Chestnut St, Boston, MA 02215</td>\n",
       "      <td>4</td>\n",
       "      <td>1.0</td>\n",
       "    </tr>\n",
       "    <tr>\n",
       "      <th>3</th>\n",
       "      <td>176560</td>\n",
       "      <td>Google Phone</td>\n",
       "      <td>1</td>\n",
       "      <td>1.0</td>\n",
       "      <td>04/12/19 14:38</td>\n",
       "      <td>669 Spruce St, Los Angeles, CA 90001</td>\n",
       "      <td>4</td>\n",
       "      <td>1.0</td>\n",
       "    </tr>\n",
       "    <tr>\n",
       "      <th>4</th>\n",
       "      <td>176560</td>\n",
       "      <td>Wired Headphones</td>\n",
       "      <td>1</td>\n",
       "      <td>1.0</td>\n",
       "      <td>04/12/19 14:38</td>\n",
       "      <td>669 Spruce St, Los Angeles, CA 90001</td>\n",
       "      <td>4</td>\n",
       "      <td>1.0</td>\n",
       "    </tr>\n",
       "    <tr>\n",
       "      <th>5</th>\n",
       "      <td>176561</td>\n",
       "      <td>Wired Headphones</td>\n",
       "      <td>1</td>\n",
       "      <td>1.0</td>\n",
       "      <td>04/30/19 09:27</td>\n",
       "      <td>333 8th St, Los Angeles, CA 90001</td>\n",
       "      <td>4</td>\n",
       "      <td>1.0</td>\n",
       "    </tr>\n",
       "  </tbody>\n",
       "</table>\n",
       "</div>"
      ],
      "text/plain": [
       "  Order ID                     Product  Quantity Ordered  Price Each  \\\n",
       "0   176558        USB-C Charging Cable                 2         2.0   \n",
       "2   176559  Bose SoundSport Headphones                 1         1.0   \n",
       "3   176560                Google Phone                 1         1.0   \n",
       "4   176560            Wired Headphones                 1         1.0   \n",
       "5   176561            Wired Headphones                 1         1.0   \n",
       "\n",
       "       Order Date                      Purchase Address  month  sales  \n",
       "0  04/19/19 08:46          917 1st St, Dallas, TX 75001      4    4.0  \n",
       "2  04/07/19 22:30     682 Chestnut St, Boston, MA 02215      4    1.0  \n",
       "3  04/12/19 14:38  669 Spruce St, Los Angeles, CA 90001      4    1.0  \n",
       "4  04/12/19 14:38  669 Spruce St, Los Angeles, CA 90001      4    1.0  \n",
       "5  04/30/19 09:27     333 8th St, Los Angeles, CA 90001      4    1.0  "
      ]
     },
     "execution_count": 35,
     "metadata": {},
     "output_type": "execute_result"
    }
   ],
   "source": [
    "all_data.head()"
   ]
  },
  {
   "cell_type": "code",
   "execution_count": 36,
   "id": "768e9b41",
   "metadata": {},
   "outputs": [
    {
     "data": {
      "text/plain": [
       "month\n",
       "1     14151.0\n",
       "2     17331.0\n",
       "3     22033.0\n",
       "4     26604.0\n",
       "5     24361.0\n",
       "6     19667.0\n",
       "7     21108.0\n",
       "8     17538.0\n",
       "9     16985.0\n",
       "10    29287.0\n",
       "11    25888.0\n",
       "12    36590.0\n",
       "Name: sales, dtype: float64"
      ]
     },
     "execution_count": 36,
     "metadata": {},
     "output_type": "execute_result"
    }
   ],
   "source": [
    "all_data.groupby('month')['sales'].sum()"
   ]
  },
  {
   "cell_type": "code",
   "execution_count": 38,
   "id": "4d984f8c",
   "metadata": {},
   "outputs": [],
   "source": [
    "months = range(1,13)"
   ]
  },
  {
   "cell_type": "code",
   "execution_count": 39,
   "id": "56b8e4dc",
   "metadata": {},
   "outputs": [
    {
     "data": {
      "text/plain": [
       "Text(0, 0.5, 'sales in USD')"
      ]
     },
     "execution_count": 39,
     "metadata": {},
     "output_type": "execute_result"
    },
    {
     "data": {
      "image/png": "[encoded data removed]",
      "text/plain": [
       "<Figure size 640x480 with 1 Axes>"
      ]
     },
     "metadata": {},
     "output_type": "display_data"
    }
   ],
   "source": [
    "plt.bar(months,all_data.groupby('month')['sales'].sum())\n",
    "plt.xticks(months)\n",
    "plt.xlabel('month')\n",
    "plt.ylabel('sales in USD')"
   ]
  },
  {
   "cell_type": "code",
   "execution_count": 105,
   "id": "02464041",
   "metadata": {},
   "outputs": [],
   "source": [
    "####### ANALUZING WHICH CITY HAS MAXIMUS ORDER ######\n"
   ]
  },
  {
   "cell_type": "code",
   "execution_count": 104,
   "id": "830447e2",
   "metadata": {},
   "outputs": [
    {
     "data": {
      "text/html": [
       "<div>\n",
       "<style scoped>\n",
       "    .dataframe tbody tr th:only-of-type {\n",
       "        vertical-align: middle;\n",
       "    }\n",
       "\n",
       "    .dataframe tbody tr th {\n",
       "        vertical-align: top;\n",
       "    }\n",
       "\n",
       "    .dataframe thead th {\n",
       "        text-align: right;\n",
       "    }\n",
       "</style>\n",
       "<table border=\"1\" class=\"dataframe\">\n",
       "  <thead>\n",
       "    <tr style=\"text-align: right;\">\n",
       "      <th></th>\n",
       "      <th>Order ID</th>\n",
       "      <th>Product</th>\n",
       "      <th>Quantity Ordered</th>\n",
       "      <th>Price Each</th>\n",
       "      <th>Order Date</th>\n",
       "      <th>Purchase Address</th>\n",
       "      <th>month</th>\n",
       "      <th>sales</th>\n",
       "    </tr>\n",
       "  </thead>\n",
       "  <tbody>\n",
       "    <tr>\n",
       "      <th>0</th>\n",
       "      <td>176558</td>\n",
       "      <td>USB-C Charging Cable</td>\n",
       "      <td>2</td>\n",
       "      <td>2.0</td>\n",
       "      <td>04/19/19 08:46</td>\n",
       "      <td>917 1st St, Dallas, TX 75001</td>\n",
       "      <td>4</td>\n",
       "      <td>4.0</td>\n",
       "    </tr>\n",
       "    <tr>\n",
       "      <th>2</th>\n",
       "      <td>176559</td>\n",
       "      <td>Bose SoundSport Headphones</td>\n",
       "      <td>1</td>\n",
       "      <td>1.0</td>\n",
       "      <td>04/07/19 22:30</td>\n",
       "      <td>682 Chestnut St, Boston, MA 02215</td>\n",
       "      <td>4</td>\n",
       "      <td>1.0</td>\n",
       "    </tr>\n",
       "    <tr>\n",
       "      <th>3</th>\n",
       "      <td>176560</td>\n",
       "      <td>Google Phone</td>\n",
       "      <td>1</td>\n",
       "      <td>1.0</td>\n",
       "      <td>04/12/19 14:38</td>\n",
       "      <td>669 Spruce St, Los Angeles, CA 90001</td>\n",
       "      <td>4</td>\n",
       "      <td>1.0</td>\n",
       "    </tr>\n",
       "    <tr>\n",
       "      <th>4</th>\n",
       "      <td>176560</td>\n",
       "      <td>Wired Headphones</td>\n",
       "      <td>1</td>\n",
       "      <td>1.0</td>\n",
       "      <td>04/12/19 14:38</td>\n",
       "      <td>669 Spruce St, Los Angeles, CA 90001</td>\n",
       "      <td>4</td>\n",
       "      <td>1.0</td>\n",
       "    </tr>\n",
       "    <tr>\n",
       "      <th>5</th>\n",
       "      <td>176561</td>\n",
       "      <td>Wired Headphones</td>\n",
       "      <td>1</td>\n",
       "      <td>1.0</td>\n",
       "      <td>04/30/19 09:27</td>\n",
       "      <td>333 8th St, Los Angeles, CA 90001</td>\n",
       "      <td>4</td>\n",
       "      <td>1.0</td>\n",
       "    </tr>\n",
       "  </tbody>\n",
       "</table>\n",
       "</div>"
      ],
      "text/plain": [
       "  Order ID                     Product  Quantity Ordered  Price Each  \\\n",
       "0   176558        USB-C Charging Cable                 2         2.0   \n",
       "2   176559  Bose SoundSport Headphones                 1         1.0   \n",
       "3   176560                Google Phone                 1         1.0   \n",
       "4   176560            Wired Headphones                 1         1.0   \n",
       "5   176561            Wired Headphones                 1         1.0   \n",
       "\n",
       "       Order Date                      Purchase Address  month  sales  \n",
       "0  04/19/19 08:46          917 1st St, Dallas, TX 75001      4    4.0  \n",
       "2  04/07/19 22:30     682 Chestnut St, Boston, MA 02215      4    1.0  \n",
       "3  04/12/19 14:38  669 Spruce St, Los Angeles, CA 90001      4    1.0  \n",
       "4  04/12/19 14:38  669 Spruce St, Los Angeles, CA 90001      4    1.0  \n",
       "5  04/30/19 09:27     333 8th St, Los Angeles, CA 90001      4    1.0  "
      ]
     },
     "execution_count": 104,
     "metadata": {},
     "output_type": "execute_result"
    }
   ],
   "source": [
    "all_data.head()"
   ]
  },
  {
   "cell_type": "code",
   "execution_count": 40,
   "id": "fa4b5339",
   "metadata": {},
   "outputs": [],
   "source": [
    "def city(x):\n",
    "    return x.split(',')[1]"
   ]
  },
  {
   "cell_type": "code",
   "execution_count": 41,
   "id": "b839f94a",
   "metadata": {},
   "outputs": [],
   "source": [
    "all_data['city']=all_data['Purchase Address'].apply (city)"
   ]
  },
  {
   "cell_type": "code",
   "execution_count": 42,
   "id": "1da449e1",
   "metadata": {},
   "outputs": [
    {
     "data": {
      "text/html": [
       "<div>\n",
       "<style scoped>\n",
       "    .dataframe tbody tr th:only-of-type {\n",
       "        vertical-align: middle;\n",
       "    }\n",
       "\n",
       "    .dataframe tbody tr th {\n",
       "        vertical-align: top;\n",
       "    }\n",
       "\n",
       "    .dataframe thead th {\n",
       "        text-align: right;\n",
       "    }\n",
       "</style>\n",
       "<table border=\"1\" class=\"dataframe\">\n",
       "  <thead>\n",
       "    <tr style=\"text-align: right;\">\n",
       "      <th></th>\n",
       "      <th>Order ID</th>\n",
       "      <th>Product</th>\n",
       "      <th>Quantity Ordered</th>\n",
       "      <th>Price Each</th>\n",
       "      <th>Order Date</th>\n",
       "      <th>Purchase Address</th>\n",
       "      <th>month</th>\n",
       "      <th>sales</th>\n",
       "      <th>city</th>\n",
       "    </tr>\n",
       "  </thead>\n",
       "  <tbody>\n",
       "    <tr>\n",
       "      <th>0</th>\n",
       "      <td>176558</td>\n",
       "      <td>USB-C Charging Cable</td>\n",
       "      <td>2</td>\n",
       "      <td>2.0</td>\n",
       "      <td>04/19/19 08:46</td>\n",
       "      <td>917 1st St, Dallas, TX 75001</td>\n",
       "      <td>4</td>\n",
       "      <td>4.0</td>\n",
       "      <td>Dallas</td>\n",
       "    </tr>\n",
       "    <tr>\n",
       "      <th>2</th>\n",
       "      <td>176559</td>\n",
       "      <td>Bose SoundSport Headphones</td>\n",
       "      <td>1</td>\n",
       "      <td>1.0</td>\n",
       "      <td>04/07/19 22:30</td>\n",
       "      <td>682 Chestnut St, Boston, MA 02215</td>\n",
       "      <td>4</td>\n",
       "      <td>1.0</td>\n",
       "      <td>Boston</td>\n",
       "    </tr>\n",
       "    <tr>\n",
       "      <th>3</th>\n",
       "      <td>176560</td>\n",
       "      <td>Google Phone</td>\n",
       "      <td>1</td>\n",
       "      <td>1.0</td>\n",
       "      <td>04/12/19 14:38</td>\n",
       "      <td>669 Spruce St, Los Angeles, CA 90001</td>\n",
       "      <td>4</td>\n",
       "      <td>1.0</td>\n",
       "      <td>Los Angeles</td>\n",
       "    </tr>\n",
       "    <tr>\n",
       "      <th>4</th>\n",
       "      <td>176560</td>\n",
       "      <td>Wired Headphones</td>\n",
       "      <td>1</td>\n",
       "      <td>1.0</td>\n",
       "      <td>04/12/19 14:38</td>\n",
       "      <td>669 Spruce St, Los Angeles, CA 90001</td>\n",
       "      <td>4</td>\n",
       "      <td>1.0</td>\n",
       "      <td>Los Angeles</td>\n",
       "    </tr>\n",
       "    <tr>\n",
       "      <th>5</th>\n",
       "      <td>176561</td>\n",
       "      <td>Wired Headphones</td>\n",
       "      <td>1</td>\n",
       "      <td>1.0</td>\n",
       "      <td>04/30/19 09:27</td>\n",
       "      <td>333 8th St, Los Angeles, CA 90001</td>\n",
       "      <td>4</td>\n",
       "      <td>1.0</td>\n",
       "      <td>Los Angeles</td>\n",
       "    </tr>\n",
       "  </tbody>\n",
       "</table>\n",
       "</div>"
      ],
      "text/plain": [
       "  Order ID                     Product  Quantity Ordered  Price Each  \\\n",
       "0   176558        USB-C Charging Cable                 2         2.0   \n",
       "2   176559  Bose SoundSport Headphones                 1         1.0   \n",
       "3   176560                Google Phone                 1         1.0   \n",
       "4   176560            Wired Headphones                 1         1.0   \n",
       "5   176561            Wired Headphones                 1         1.0   \n",
       "\n",
       "       Order Date                      Purchase Address  month  sales  \\\n",
       "0  04/19/19 08:46          917 1st St, Dallas, TX 75001      4    4.0   \n",
       "2  04/07/19 22:30     682 Chestnut St, Boston, MA 02215      4    1.0   \n",
       "3  04/12/19 14:38  669 Spruce St, Los Angeles, CA 90001      4    1.0   \n",
       "4  04/12/19 14:38  669 Spruce St, Los Angeles, CA 90001      4    1.0   \n",
       "5  04/30/19 09:27     333 8th St, Los Angeles, CA 90001      4    1.0   \n",
       "\n",
       "           city  \n",
       "0        Dallas  \n",
       "2        Boston  \n",
       "3   Los Angeles  \n",
       "4   Los Angeles  \n",
       "5   Los Angeles  "
      ]
     },
     "execution_count": 42,
     "metadata": {},
     "output_type": "execute_result"
    }
   ],
   "source": [
    "all_data.head()"
   ]
  },
  {
   "cell_type": "code",
   "execution_count": 107,
   "id": "daf44533",
   "metadata": {},
   "outputs": [
    {
     "data": {
      "text/plain": [
       "<AxesSubplot:xlabel='city'>"
      ]
     },
     "execution_count": 107,
     "metadata": {},
     "output_type": "execute_result"
    },
    {
     "data": {
      "image/png": "[encoded data removed]",
      "text/plain": [
       "<Figure size 640x480 with 1 Axes>"
      ]
     },
     "metadata": {},
     "output_type": "display_data"
    }
   ],
   "source": [
    "all_data.groupby('city')['city'].count().plot.bar()"
   ]
  },
  {
   "cell_type": "code",
   "execution_count": 51,
   "id": "207296d2",
   "metadata": {},
   "outputs": [],
   "source": [
    "#           ANALYSISNG MOST SOLD PRODUCTS\n"
   ]
  },
  {
   "cell_type": "code",
   "execution_count": 108,
   "id": "b58592cc",
   "metadata": {},
   "outputs": [
    {
     "data": {
      "text/html": [
       "<div>\n",
       "<style scoped>\n",
       "    .dataframe tbody tr th:only-of-type {\n",
       "        vertical-align: middle;\n",
       "    }\n",
       "\n",
       "    .dataframe tbody tr th {\n",
       "        vertical-align: top;\n",
       "    }\n",
       "\n",
       "    .dataframe thead th {\n",
       "        text-align: right;\n",
       "    }\n",
       "</style>\n",
       "<table border=\"1\" class=\"dataframe\">\n",
       "  <thead>\n",
       "    <tr style=\"text-align: right;\">\n",
       "      <th></th>\n",
       "      <th>Order ID</th>\n",
       "      <th>Product</th>\n",
       "      <th>Quantity Ordered</th>\n",
       "      <th>Price Each</th>\n",
       "      <th>Order Date</th>\n",
       "      <th>Purchase Address</th>\n",
       "      <th>month</th>\n",
       "      <th>sales</th>\n",
       "      <th>city</th>\n",
       "    </tr>\n",
       "  </thead>\n",
       "  <tbody>\n",
       "    <tr>\n",
       "      <th>0</th>\n",
       "      <td>176558</td>\n",
       "      <td>USB-C Charging Cable</td>\n",
       "      <td>2</td>\n",
       "      <td>2.0</td>\n",
       "      <td>04/19/19 08:46</td>\n",
       "      <td>917 1st St, Dallas, TX 75001</td>\n",
       "      <td>4</td>\n",
       "      <td>4.0</td>\n",
       "      <td>Dallas</td>\n",
       "    </tr>\n",
       "    <tr>\n",
       "      <th>2</th>\n",
       "      <td>176559</td>\n",
       "      <td>Bose SoundSport Headphones</td>\n",
       "      <td>1</td>\n",
       "      <td>1.0</td>\n",
       "      <td>04/07/19 22:30</td>\n",
       "      <td>682 Chestnut St, Boston, MA 02215</td>\n",
       "      <td>4</td>\n",
       "      <td>1.0</td>\n",
       "      <td>Boston</td>\n",
       "    </tr>\n",
       "    <tr>\n",
       "      <th>3</th>\n",
       "      <td>176560</td>\n",
       "      <td>Google Phone</td>\n",
       "      <td>1</td>\n",
       "      <td>1.0</td>\n",
       "      <td>04/12/19 14:38</td>\n",
       "      <td>669 Spruce St, Los Angeles, CA 90001</td>\n",
       "      <td>4</td>\n",
       "      <td>1.0</td>\n",
       "      <td>Los Angeles</td>\n",
       "    </tr>\n",
       "    <tr>\n",
       "      <th>4</th>\n",
       "      <td>176560</td>\n",
       "      <td>Wired Headphones</td>\n",
       "      <td>1</td>\n",
       "      <td>1.0</td>\n",
       "      <td>04/12/19 14:38</td>\n",
       "      <td>669 Spruce St, Los Angeles, CA 90001</td>\n",
       "      <td>4</td>\n",
       "      <td>1.0</td>\n",
       "      <td>Los Angeles</td>\n",
       "    </tr>\n",
       "    <tr>\n",
       "      <th>5</th>\n",
       "      <td>176561</td>\n",
       "      <td>Wired Headphones</td>\n",
       "      <td>1</td>\n",
       "      <td>1.0</td>\n",
       "      <td>04/30/19 09:27</td>\n",
       "      <td>333 8th St, Los Angeles, CA 90001</td>\n",
       "      <td>4</td>\n",
       "      <td>1.0</td>\n",
       "      <td>Los Angeles</td>\n",
       "    </tr>\n",
       "    <tr>\n",
       "      <th>...</th>\n",
       "      <td>...</td>\n",
       "      <td>...</td>\n",
       "      <td>...</td>\n",
       "      <td>...</td>\n",
       "      <td>...</td>\n",
       "      <td>...</td>\n",
       "      <td>...</td>\n",
       "      <td>...</td>\n",
       "      <td>...</td>\n",
       "    </tr>\n",
       "    <tr>\n",
       "      <th>11681</th>\n",
       "      <td>259353</td>\n",
       "      <td>AAA Batteries (4-pack)</td>\n",
       "      <td>3</td>\n",
       "      <td>3.0</td>\n",
       "      <td>09/17/19 20:56</td>\n",
       "      <td>840 Highland St, Los Angeles, CA 90001</td>\n",
       "      <td>9</td>\n",
       "      <td>9.0</td>\n",
       "      <td>Los Angeles</td>\n",
       "    </tr>\n",
       "    <tr>\n",
       "      <th>11682</th>\n",
       "      <td>259354</td>\n",
       "      <td>iPhone</td>\n",
       "      <td>1</td>\n",
       "      <td>1.0</td>\n",
       "      <td>09/01/19 16:00</td>\n",
       "      <td>216 Dogwood St, San Francisco, CA 94016</td>\n",
       "      <td>9</td>\n",
       "      <td>1.0</td>\n",
       "      <td>San Francisco</td>\n",
       "    </tr>\n",
       "    <tr>\n",
       "      <th>11683</th>\n",
       "      <td>259355</td>\n",
       "      <td>iPhone</td>\n",
       "      <td>1</td>\n",
       "      <td>1.0</td>\n",
       "      <td>09/23/19 07:39</td>\n",
       "      <td>220 12th St, San Francisco, CA 94016</td>\n",
       "      <td>9</td>\n",
       "      <td>1.0</td>\n",
       "      <td>San Francisco</td>\n",
       "    </tr>\n",
       "    <tr>\n",
       "      <th>11684</th>\n",
       "      <td>259356</td>\n",
       "      <td>34in Ultrawide Monitor</td>\n",
       "      <td>1</td>\n",
       "      <td>1.0</td>\n",
       "      <td>09/19/19 17:30</td>\n",
       "      <td>511 Forest St, San Francisco, CA 94016</td>\n",
       "      <td>9</td>\n",
       "      <td>1.0</td>\n",
       "      <td>San Francisco</td>\n",
       "    </tr>\n",
       "    <tr>\n",
       "      <th>11685</th>\n",
       "      <td>259357</td>\n",
       "      <td>USB-C Charging Cable</td>\n",
       "      <td>1</td>\n",
       "      <td>1.0</td>\n",
       "      <td>09/30/19 00:18</td>\n",
       "      <td>250 Meadow St, San Francisco, CA 94016</td>\n",
       "      <td>9</td>\n",
       "      <td>1.0</td>\n",
       "      <td>San Francisco</td>\n",
       "    </tr>\n",
       "  </tbody>\n",
       "</table>\n",
       "<p>185950 rows × 9 columns</p>\n",
       "</div>"
      ],
      "text/plain": [
       "      Order ID                     Product  Quantity Ordered  Price Each  \\\n",
       "0       176558        USB-C Charging Cable                 2         2.0   \n",
       "2       176559  Bose SoundSport Headphones                 1         1.0   \n",
       "3       176560                Google Phone                 1         1.0   \n",
       "4       176560            Wired Headphones                 1         1.0   \n",
       "5       176561            Wired Headphones                 1         1.0   \n",
       "...        ...                         ...               ...         ...   \n",
       "11681   259353      AAA Batteries (4-pack)                 3         3.0   \n",
       "11682   259354                      iPhone                 1         1.0   \n",
       "11683   259355                      iPhone                 1         1.0   \n",
       "11684   259356      34in Ultrawide Monitor                 1         1.0   \n",
       "11685   259357        USB-C Charging Cable                 1         1.0   \n",
       "\n",
       "           Order Date                         Purchase Address  month  sales  \\\n",
       "0      04/19/19 08:46             917 1st St, Dallas, TX 75001      4    4.0   \n",
       "2      04/07/19 22:30        682 Chestnut St, Boston, MA 02215      4    1.0   \n",
       "3      04/12/19 14:38     669 Spruce St, Los Angeles, CA 90001      4    1.0   \n",
       "4      04/12/19 14:38     669 Spruce St, Los Angeles, CA 90001      4    1.0   \n",
       "5      04/30/19 09:27        333 8th St, Los Angeles, CA 90001      4    1.0   \n",
       "...               ...                                      ...    ...    ...   \n",
       "11681  09/17/19 20:56   840 Highland St, Los Angeles, CA 90001      9    9.0   \n",
       "11682  09/01/19 16:00  216 Dogwood St, San Francisco, CA 94016      9    1.0   \n",
       "11683  09/23/19 07:39     220 12th St, San Francisco, CA 94016      9    1.0   \n",
       "11684  09/19/19 17:30   511 Forest St, San Francisco, CA 94016      9    1.0   \n",
       "11685  09/30/19 00:18   250 Meadow St, San Francisco, CA 94016      9    1.0   \n",
       "\n",
       "                 city  \n",
       "0              Dallas  \n",
       "2              Boston  \n",
       "3         Los Angeles  \n",
       "4         Los Angeles  \n",
       "5         Los Angeles  \n",
       "...               ...  \n",
       "11681     Los Angeles  \n",
       "11682   San Francisco  \n",
       "11683   San Francisco  \n",
       "11684   San Francisco  \n",
       "11685   San Francisco  \n",
       "\n",
       "[185950 rows x 9 columns]"
      ]
     },
     "execution_count": 108,
     "metadata": {},
     "output_type": "execute_result"
    }
   ],
   "source": [
    "all_data"
   ]
  },
  {
   "cell_type": "code",
   "execution_count": 43,
   "id": "f59d329d",
   "metadata": {},
   "outputs": [
    {
     "data": {
      "text/plain": [
       "(185950, 9)"
      ]
     },
     "execution_count": 43,
     "metadata": {},
     "output_type": "execute_result"
    }
   ],
   "source": [
    "all_data.shape"
   ]
  },
  {
   "cell_type": "code",
   "execution_count": 44,
   "id": "8eeef6fb",
   "metadata": {},
   "outputs": [
    {
     "data": {
      "text/plain": [
       "Product\n",
       "20in Monitor                   4129\n",
       "27in 4K Gaming Monitor         6244\n",
       "27in FHD Monitor               7550\n",
       "34in Ultrawide Monitor         6199\n",
       "AA Batteries (4-pack)         27635\n",
       "AAA Batteries (4-pack)        31017\n",
       "Apple Airpods Headphones      15661\n",
       "Bose SoundSport Headphones    13457\n",
       "Flatscreen TV                  4819\n",
       "Google Phone                   5532\n",
       "LG Dryer                        646\n",
       "LG Washing Machine              666\n",
       "Lightning Charging Cable      23217\n",
       "Macbook Pro Laptop             4728\n",
       "ThinkPad Laptop                4130\n",
       "USB-C Charging Cable          23975\n",
       "Vareebadd Phone                2068\n",
       "Wired Headphones              20557\n",
       "iPhone                         6849\n",
       "Name: Quantity Ordered, dtype: int32"
      ]
     },
     "execution_count": 44,
     "metadata": {},
     "output_type": "execute_result"
    }
   ],
   "source": [
    "all_data.groupby('Product')['Quantity Ordered'].sum()"
   ]
  },
  {
   "cell_type": "code",
   "execution_count": 45,
   "id": "ccb910ac",
   "metadata": {},
   "outputs": [
    {
     "data": {
      "text/plain": [
       "Text(0, 0.5, 'Quantity ordered')"
      ]
     },
     "execution_count": 45,
     "metadata": {},
     "output_type": "execute_result"
    },
    {
     "data": {
      "image/png": "[encoded data removed]",
      "text/plain": [
       "<Figure size 640x480 with 1 Axes>"
      ]
     },
     "metadata": {},
     "output_type": "display_data"
    }
   ],
   "source": [
    "all_data.groupby('Product')['Quantity Ordered'].sum().plot(kind='bar')\n",
    "plt.ylabel('Quantity ordered')"
   ]
  },
  {
   "cell_type": "code",
   "execution_count": 46,
   "id": "7bc4998f",
   "metadata": {},
   "outputs": [
    {
     "data": {
      "text/plain": [
       "Product\n",
       "20in Monitor                  1.006828\n",
       "27in 4K Gaming Monitor        1.002247\n",
       "27in FHD Monitor              1.005728\n",
       "34in Ultrawide Monitor        1.002912\n",
       "AA Batteries (4-pack)         1.343004\n",
       "AAA Batteries (4-pack)        1.502689\n",
       "Apple Airpods Headphones      1.007203\n",
       "Bose SoundSport Headphones    1.009906\n",
       "Flatscreen TV                 1.003958\n",
       "Google Phone                  1.001267\n",
       "LG Dryer                      1.000000\n",
       "LG Washing Machine            1.000000\n",
       "Lightning Charging Cable      1.071983\n",
       "Macbook Pro Laptop            1.000847\n",
       "ThinkPad Laptop               1.000484\n",
       "USB-C Charging Cable          1.094599\n",
       "Vareebadd Phone               1.001453\n",
       "Wired Headphones              1.088709\n",
       "iPhone                        1.001023\n",
       "Name: Price Each, dtype: float64"
      ]
     },
     "execution_count": 46,
     "metadata": {},
     "output_type": "execute_result"
    }
   ],
   "source": [
    "all_data.groupby('Product')['Price Each'].mean()"
   ]
  },
  {
   "cell_type": "code",
   "execution_count": 47,
   "id": "d07213bc",
   "metadata": {},
   "outputs": [],
   "source": [
    "products = all_data.groupby('Product')['Quantity Ordered'].sum().index\n",
    "price = all_data.groupby('Product')['Price Each'].mean()\n",
    "quantity = all_data.groupby('Product')['Quantity Ordered'].sum()\n"
   ]
  },
  {
   "cell_type": "code",
   "execution_count": 48,
   "id": "7c428a97",
   "metadata": {},
   "outputs": [
    {
     "name": "stderr",
     "output_type": "stream",
     "text": [
      "C:\\Users\\kamak\\AppData\\Local\\Temp\\ipykernel_30900\\2903074704.py:5: UserWarning: FixedFormatter should only be used together with FixedLocator\n",
      "  ax1.set_xticklabels(products,rotation = 90)\n"
     ]
    },
    {
     "data": {
      "text/plain": [
       "[Text(0, 0, '20in Monitor'),\n",
       " Text(1, 0, '27in 4K Gaming Monitor'),\n",
       " Text(2, 0, '27in FHD Monitor'),\n",
       " Text(3, 0, '34in Ultrawide Monitor'),\n",
       " Text(4, 0, 'AA Batteries (4-pack)'),\n",
       " Text(5, 0, 'AAA Batteries (4-pack)'),\n",
       " Text(6, 0, 'Apple Airpods Headphones'),\n",
       " Text(7, 0, 'Bose SoundSport Headphones'),\n",
       " Text(8, 0, 'Flatscreen TV'),\n",
       " Text(9, 0, 'Google Phone'),\n",
       " Text(10, 0, 'LG Dryer'),\n",
       " Text(11, 0, 'LG Washing Machine'),\n",
       " Text(12, 0, 'Lightning Charging Cable'),\n",
       " Text(13, 0, 'Macbook Pro Laptop'),\n",
       " Text(14, 0, 'ThinkPad Laptop'),\n",
       " Text(15, 0, 'USB-C Charging Cable'),\n",
       " Text(16, 0, 'Vareebadd Phone'),\n",
       " Text(17, 0, 'Wired Headphones'),\n",
       " Text(18, 0, 'iPhone')]"
      ]
     },
     "execution_count": 48,
     "metadata": {},
     "output_type": "execute_result"
    },
    {
     "data": {
      "image/png": "[encoded data removed]",
      "text/plain": [
       "<Figure size 640x480 with 2 Axes>"
      ]
     },
     "metadata": {},
     "output_type": "display_data"
    }
   ],
   "source": [
    "fig,ax1 = plt.subplots()\n",
    "ax2 = ax1.twinx()\n",
    "ax1.bar(products,quantity,color = 'g')\n",
    "ax2.plot(products,price,color = 'r')\n",
    "ax1.set_xticklabels(products,rotation = 90)\n"
   ]
  },
  {
   "cell_type": "code",
   "execution_count": 49,
   "id": "f955d4ca",
   "metadata": {},
   "outputs": [
    {
     "data": {
      "text/html": [
       "<div>\n",
       "<style scoped>\n",
       "    .dataframe tbody tr th:only-of-type {\n",
       "        vertical-align: middle;\n",
       "    }\n",
       "\n",
       "    .dataframe tbody tr th {\n",
       "        vertical-align: top;\n",
       "    }\n",
       "\n",
       "    .dataframe thead th {\n",
       "        text-align: right;\n",
       "    }\n",
       "</style>\n",
       "<table border=\"1\" class=\"dataframe\">\n",
       "  <thead>\n",
       "    <tr style=\"text-align: right;\">\n",
       "      <th></th>\n",
       "      <th>Order ID</th>\n",
       "      <th>Product</th>\n",
       "      <th>Quantity Ordered</th>\n",
       "      <th>Price Each</th>\n",
       "      <th>Order Date</th>\n",
       "      <th>Purchase Address</th>\n",
       "      <th>month</th>\n",
       "      <th>sales</th>\n",
       "      <th>city</th>\n",
       "    </tr>\n",
       "  </thead>\n",
       "  <tbody>\n",
       "    <tr>\n",
       "      <th>0</th>\n",
       "      <td>176558</td>\n",
       "      <td>USB-C Charging Cable</td>\n",
       "      <td>2</td>\n",
       "      <td>2.0</td>\n",
       "      <td>04/19/19 08:46</td>\n",
       "      <td>917 1st St, Dallas, TX 75001</td>\n",
       "      <td>4</td>\n",
       "      <td>4.0</td>\n",
       "      <td>Dallas</td>\n",
       "    </tr>\n",
       "    <tr>\n",
       "      <th>2</th>\n",
       "      <td>176559</td>\n",
       "      <td>Bose SoundSport Headphones</td>\n",
       "      <td>1</td>\n",
       "      <td>1.0</td>\n",
       "      <td>04/07/19 22:30</td>\n",
       "      <td>682 Chestnut St, Boston, MA 02215</td>\n",
       "      <td>4</td>\n",
       "      <td>1.0</td>\n",
       "      <td>Boston</td>\n",
       "    </tr>\n",
       "    <tr>\n",
       "      <th>3</th>\n",
       "      <td>176560</td>\n",
       "      <td>Google Phone</td>\n",
       "      <td>1</td>\n",
       "      <td>1.0</td>\n",
       "      <td>04/12/19 14:38</td>\n",
       "      <td>669 Spruce St, Los Angeles, CA 90001</td>\n",
       "      <td>4</td>\n",
       "      <td>1.0</td>\n",
       "      <td>Los Angeles</td>\n",
       "    </tr>\n",
       "    <tr>\n",
       "      <th>4</th>\n",
       "      <td>176560</td>\n",
       "      <td>Wired Headphones</td>\n",
       "      <td>1</td>\n",
       "      <td>1.0</td>\n",
       "      <td>04/12/19 14:38</td>\n",
       "      <td>669 Spruce St, Los Angeles, CA 90001</td>\n",
       "      <td>4</td>\n",
       "      <td>1.0</td>\n",
       "      <td>Los Angeles</td>\n",
       "    </tr>\n",
       "    <tr>\n",
       "      <th>5</th>\n",
       "      <td>176561</td>\n",
       "      <td>Wired Headphones</td>\n",
       "      <td>1</td>\n",
       "      <td>1.0</td>\n",
       "      <td>04/30/19 09:27</td>\n",
       "      <td>333 8th St, Los Angeles, CA 90001</td>\n",
       "      <td>4</td>\n",
       "      <td>1.0</td>\n",
       "      <td>Los Angeles</td>\n",
       "    </tr>\n",
       "  </tbody>\n",
       "</table>\n",
       "</div>"
      ],
      "text/plain": [
       "  Order ID                     Product  Quantity Ordered  Price Each  \\\n",
       "0   176558        USB-C Charging Cable                 2         2.0   \n",
       "2   176559  Bose SoundSport Headphones                 1         1.0   \n",
       "3   176560                Google Phone                 1         1.0   \n",
       "4   176560            Wired Headphones                 1         1.0   \n",
       "5   176561            Wired Headphones                 1         1.0   \n",
       "\n",
       "       Order Date                      Purchase Address  month  sales  \\\n",
       "0  04/19/19 08:46          917 1st St, Dallas, TX 75001      4    4.0   \n",
       "2  04/07/19 22:30     682 Chestnut St, Boston, MA 02215      4    1.0   \n",
       "3  04/12/19 14:38  669 Spruce St, Los Angeles, CA 90001      4    1.0   \n",
       "4  04/12/19 14:38  669 Spruce St, Los Angeles, CA 90001      4    1.0   \n",
       "5  04/30/19 09:27     333 8th St, Los Angeles, CA 90001      4    1.0   \n",
       "\n",
       "           city  \n",
       "0        Dallas  \n",
       "2        Boston  \n",
       "3   Los Angeles  \n",
       "4   Los Angeles  \n",
       "5   Los Angeles  "
      ]
     },
     "execution_count": 49,
     "metadata": {},
     "output_type": "execute_result"
    }
   ],
   "source": [
    "all_data.head()"
   ]
  },
  {
   "cell_type": "code",
   "execution_count": 50,
   "id": "a417d5a9",
   "metadata": {},
   "outputs": [],
   "source": [
    "#      ANALYZING PRODUCTS WHICH ARE MOST OFTEN SOLD TOGETHER\n",
    "\n"
   ]
  },
  {
   "cell_type": "code",
   "execution_count": 52,
   "id": "36b761aa",
   "metadata": {},
   "outputs": [],
   "source": [
    "df = all_data['Order ID'].duplicated(keep=False)"
   ]
  },
  {
   "cell_type": "code",
   "execution_count": 53,
   "id": "10418232",
   "metadata": {},
   "outputs": [],
   "source": [
    "df2 = all_data[df]"
   ]
  },
  {
   "cell_type": "code",
   "execution_count": 55,
   "id": "50a6c644",
   "metadata": {},
   "outputs": [
    {
     "data": {
      "text/html": [
       "<div>\n",
       "<style scoped>\n",
       "    .dataframe tbody tr th:only-of-type {\n",
       "        vertical-align: middle;\n",
       "    }\n",
       "\n",
       "    .dataframe tbody tr th {\n",
       "        vertical-align: top;\n",
       "    }\n",
       "\n",
       "    .dataframe thead th {\n",
       "        text-align: right;\n",
       "    }\n",
       "</style>\n",
       "<table border=\"1\" class=\"dataframe\">\n",
       "  <thead>\n",
       "    <tr style=\"text-align: right;\">\n",
       "      <th></th>\n",
       "      <th>Order ID</th>\n",
       "      <th>Product</th>\n",
       "      <th>Quantity Ordered</th>\n",
       "      <th>Price Each</th>\n",
       "      <th>Order Date</th>\n",
       "      <th>Purchase Address</th>\n",
       "      <th>month</th>\n",
       "      <th>sales</th>\n",
       "      <th>city</th>\n",
       "    </tr>\n",
       "  </thead>\n",
       "  <tbody>\n",
       "    <tr>\n",
       "      <th>3</th>\n",
       "      <td>176560</td>\n",
       "      <td>Google Phone</td>\n",
       "      <td>1</td>\n",
       "      <td>1.0</td>\n",
       "      <td>04/12/19 14:38</td>\n",
       "      <td>669 Spruce St, Los Angeles, CA 90001</td>\n",
       "      <td>4</td>\n",
       "      <td>1.0</td>\n",
       "      <td>Los Angeles</td>\n",
       "    </tr>\n",
       "    <tr>\n",
       "      <th>4</th>\n",
       "      <td>176560</td>\n",
       "      <td>Wired Headphones</td>\n",
       "      <td>1</td>\n",
       "      <td>1.0</td>\n",
       "      <td>04/12/19 14:38</td>\n",
       "      <td>669 Spruce St, Los Angeles, CA 90001</td>\n",
       "      <td>4</td>\n",
       "      <td>1.0</td>\n",
       "      <td>Los Angeles</td>\n",
       "    </tr>\n",
       "    <tr>\n",
       "      <th>18</th>\n",
       "      <td>176574</td>\n",
       "      <td>Google Phone</td>\n",
       "      <td>1</td>\n",
       "      <td>1.0</td>\n",
       "      <td>04/03/19 19:42</td>\n",
       "      <td>20 Hill St, Los Angeles, CA 90001</td>\n",
       "      <td>4</td>\n",
       "      <td>1.0</td>\n",
       "      <td>Los Angeles</td>\n",
       "    </tr>\n",
       "    <tr>\n",
       "      <th>19</th>\n",
       "      <td>176574</td>\n",
       "      <td>USB-C Charging Cable</td>\n",
       "      <td>1</td>\n",
       "      <td>1.0</td>\n",
       "      <td>04/03/19 19:42</td>\n",
       "      <td>20 Hill St, Los Angeles, CA 90001</td>\n",
       "      <td>4</td>\n",
       "      <td>1.0</td>\n",
       "      <td>Los Angeles</td>\n",
       "    </tr>\n",
       "    <tr>\n",
       "      <th>30</th>\n",
       "      <td>176585</td>\n",
       "      <td>Bose SoundSport Headphones</td>\n",
       "      <td>1</td>\n",
       "      <td>1.0</td>\n",
       "      <td>04/07/19 11:31</td>\n",
       "      <td>823 Highland St, Boston, MA 02215</td>\n",
       "      <td>4</td>\n",
       "      <td>1.0</td>\n",
       "      <td>Boston</td>\n",
       "    </tr>\n",
       "    <tr>\n",
       "      <th>...</th>\n",
       "      <td>...</td>\n",
       "      <td>...</td>\n",
       "      <td>...</td>\n",
       "      <td>...</td>\n",
       "      <td>...</td>\n",
       "      <td>...</td>\n",
       "      <td>...</td>\n",
       "      <td>...</td>\n",
       "      <td>...</td>\n",
       "    </tr>\n",
       "    <tr>\n",
       "      <th>11628</th>\n",
       "      <td>259303</td>\n",
       "      <td>AA Batteries (4-pack)</td>\n",
       "      <td>1</td>\n",
       "      <td>1.0</td>\n",
       "      <td>09/20/19 20:18</td>\n",
       "      <td>106 7th St, Atlanta, GA 30301</td>\n",
       "      <td>9</td>\n",
       "      <td>1.0</td>\n",
       "      <td>Atlanta</td>\n",
       "    </tr>\n",
       "    <tr>\n",
       "      <th>11639</th>\n",
       "      <td>259314</td>\n",
       "      <td>Wired Headphones</td>\n",
       "      <td>1</td>\n",
       "      <td>1.0</td>\n",
       "      <td>09/16/19 00:25</td>\n",
       "      <td>241 Highland St, Atlanta, GA 30301</td>\n",
       "      <td>9</td>\n",
       "      <td>1.0</td>\n",
       "      <td>Atlanta</td>\n",
       "    </tr>\n",
       "    <tr>\n",
       "      <th>11640</th>\n",
       "      <td>259314</td>\n",
       "      <td>AAA Batteries (4-pack)</td>\n",
       "      <td>2</td>\n",
       "      <td>2.0</td>\n",
       "      <td>09/16/19 00:25</td>\n",
       "      <td>241 Highland St, Atlanta, GA 30301</td>\n",
       "      <td>9</td>\n",
       "      <td>4.0</td>\n",
       "      <td>Atlanta</td>\n",
       "    </tr>\n",
       "    <tr>\n",
       "      <th>11677</th>\n",
       "      <td>259350</td>\n",
       "      <td>Google Phone</td>\n",
       "      <td>1</td>\n",
       "      <td>1.0</td>\n",
       "      <td>09/30/19 13:49</td>\n",
       "      <td>519 Maple St, San Francisco, CA 94016</td>\n",
       "      <td>9</td>\n",
       "      <td>1.0</td>\n",
       "      <td>San Francisco</td>\n",
       "    </tr>\n",
       "    <tr>\n",
       "      <th>11678</th>\n",
       "      <td>259350</td>\n",
       "      <td>USB-C Charging Cable</td>\n",
       "      <td>1</td>\n",
       "      <td>1.0</td>\n",
       "      <td>09/30/19 13:49</td>\n",
       "      <td>519 Maple St, San Francisco, CA 94016</td>\n",
       "      <td>9</td>\n",
       "      <td>1.0</td>\n",
       "      <td>San Francisco</td>\n",
       "    </tr>\n",
       "  </tbody>\n",
       "</table>\n",
       "<p>14649 rows × 9 columns</p>\n",
       "</div>"
      ],
      "text/plain": [
       "      Order ID                     Product  Quantity Ordered  Price Each  \\\n",
       "3       176560                Google Phone                 1         1.0   \n",
       "4       176560            Wired Headphones                 1         1.0   \n",
       "18      176574                Google Phone                 1         1.0   \n",
       "19      176574        USB-C Charging Cable                 1         1.0   \n",
       "30      176585  Bose SoundSport Headphones                 1         1.0   \n",
       "...        ...                         ...               ...         ...   \n",
       "11628   259303       AA Batteries (4-pack)                 1         1.0   \n",
       "11639   259314            Wired Headphones                 1         1.0   \n",
       "11640   259314      AAA Batteries (4-pack)                 2         2.0   \n",
       "11677   259350                Google Phone                 1         1.0   \n",
       "11678   259350        USB-C Charging Cable                 1         1.0   \n",
       "\n",
       "           Order Date                       Purchase Address  month  sales  \\\n",
       "3      04/12/19 14:38   669 Spruce St, Los Angeles, CA 90001      4    1.0   \n",
       "4      04/12/19 14:38   669 Spruce St, Los Angeles, CA 90001      4    1.0   \n",
       "18     04/03/19 19:42      20 Hill St, Los Angeles, CA 90001      4    1.0   \n",
       "19     04/03/19 19:42      20 Hill St, Los Angeles, CA 90001      4    1.0   \n",
       "30     04/07/19 11:31      823 Highland St, Boston, MA 02215      4    1.0   \n",
       "...               ...                                    ...    ...    ...   \n",
       "11628  09/20/19 20:18          106 7th St, Atlanta, GA 30301      9    1.0   \n",
       "11639  09/16/19 00:25     241 Highland St, Atlanta, GA 30301      9    1.0   \n",
       "11640  09/16/19 00:25     241 Highland St, Atlanta, GA 30301      9    4.0   \n",
       "11677  09/30/19 13:49  519 Maple St, San Francisco, CA 94016      9    1.0   \n",
       "11678  09/30/19 13:49  519 Maple St, San Francisco, CA 94016      9    1.0   \n",
       "\n",
       "                 city  \n",
       "3         Los Angeles  \n",
       "4         Los Angeles  \n",
       "18        Los Angeles  \n",
       "19        Los Angeles  \n",
       "30             Boston  \n",
       "...               ...  \n",
       "11628         Atlanta  \n",
       "11639         Atlanta  \n",
       "11640         Atlanta  \n",
       "11677   San Francisco  \n",
       "11678   San Francisco  \n",
       "\n",
       "[14649 rows x 9 columns]"
      ]
     },
     "execution_count": 55,
     "metadata": {},
     "output_type": "execute_result"
    }
   ],
   "source": [
    "df2"
   ]
  },
  {
   "cell_type": "code",
   "execution_count": 56,
   "id": "5830ce3d",
   "metadata": {},
   "outputs": [
    {
     "name": "stderr",
     "output_type": "stream",
     "text": [
      "C:\\Users\\kamak\\AppData\\Local\\Temp\\ipykernel_30900\\560018863.py:1: SettingWithCopyWarning: \n",
      "A value is trying to be set on a copy of a slice from a DataFrame.\n",
      "Try using .loc[row_indexer,col_indexer] = value instead\n",
      "\n",
      "See the caveats in the documentation: https://pandas.pydata.org/pandas-docs/stable/user_guide/indexing.html#returning-a-view-versus-a-copy\n",
      "  df2['Grouped']=df2.groupby('Order ID')['Product'].transform(lambda x : ','.join(x))\n"
     ]
    }
   ],
   "source": [
    "df2['Grouped']=df2.groupby('Order ID')['Product'].transform(lambda x : ','.join(x))"
   ]
  },
  {
   "cell_type": "code",
   "execution_count": 57,
   "id": "e3e6805b",
   "metadata": {},
   "outputs": [
    {
     "data": {
      "text/html": [
       "<div>\n",
       "<style scoped>\n",
       "    .dataframe tbody tr th:only-of-type {\n",
       "        vertical-align: middle;\n",
       "    }\n",
       "\n",
       "    .dataframe tbody tr th {\n",
       "        vertical-align: top;\n",
       "    }\n",
       "\n",
       "    .dataframe thead th {\n",
       "        text-align: right;\n",
       "    }\n",
       "</style>\n",
       "<table border=\"1\" class=\"dataframe\">\n",
       "  <thead>\n",
       "    <tr style=\"text-align: right;\">\n",
       "      <th></th>\n",
       "      <th>Order ID</th>\n",
       "      <th>Product</th>\n",
       "      <th>Quantity Ordered</th>\n",
       "      <th>Price Each</th>\n",
       "      <th>Order Date</th>\n",
       "      <th>Purchase Address</th>\n",
       "      <th>month</th>\n",
       "      <th>sales</th>\n",
       "      <th>city</th>\n",
       "      <th>Grouped</th>\n",
       "    </tr>\n",
       "  </thead>\n",
       "  <tbody>\n",
       "    <tr>\n",
       "      <th>3</th>\n",
       "      <td>176560</td>\n",
       "      <td>Google Phone</td>\n",
       "      <td>1</td>\n",
       "      <td>1.0</td>\n",
       "      <td>04/12/19 14:38</td>\n",
       "      <td>669 Spruce St, Los Angeles, CA 90001</td>\n",
       "      <td>4</td>\n",
       "      <td>1.0</td>\n",
       "      <td>Los Angeles</td>\n",
       "      <td>Google Phone,Wired Headphones</td>\n",
       "    </tr>\n",
       "    <tr>\n",
       "      <th>4</th>\n",
       "      <td>176560</td>\n",
       "      <td>Wired Headphones</td>\n",
       "      <td>1</td>\n",
       "      <td>1.0</td>\n",
       "      <td>04/12/19 14:38</td>\n",
       "      <td>669 Spruce St, Los Angeles, CA 90001</td>\n",
       "      <td>4</td>\n",
       "      <td>1.0</td>\n",
       "      <td>Los Angeles</td>\n",
       "      <td>Google Phone,Wired Headphones</td>\n",
       "    </tr>\n",
       "    <tr>\n",
       "      <th>18</th>\n",
       "      <td>176574</td>\n",
       "      <td>Google Phone</td>\n",
       "      <td>1</td>\n",
       "      <td>1.0</td>\n",
       "      <td>04/03/19 19:42</td>\n",
       "      <td>20 Hill St, Los Angeles, CA 90001</td>\n",
       "      <td>4</td>\n",
       "      <td>1.0</td>\n",
       "      <td>Los Angeles</td>\n",
       "      <td>Google Phone,USB-C Charging Cable</td>\n",
       "    </tr>\n",
       "    <tr>\n",
       "      <th>19</th>\n",
       "      <td>176574</td>\n",
       "      <td>USB-C Charging Cable</td>\n",
       "      <td>1</td>\n",
       "      <td>1.0</td>\n",
       "      <td>04/03/19 19:42</td>\n",
       "      <td>20 Hill St, Los Angeles, CA 90001</td>\n",
       "      <td>4</td>\n",
       "      <td>1.0</td>\n",
       "      <td>Los Angeles</td>\n",
       "      <td>Google Phone,USB-C Charging Cable</td>\n",
       "    </tr>\n",
       "    <tr>\n",
       "      <th>30</th>\n",
       "      <td>176585</td>\n",
       "      <td>Bose SoundSport Headphones</td>\n",
       "      <td>1</td>\n",
       "      <td>1.0</td>\n",
       "      <td>04/07/19 11:31</td>\n",
       "      <td>823 Highland St, Boston, MA 02215</td>\n",
       "      <td>4</td>\n",
       "      <td>1.0</td>\n",
       "      <td>Boston</td>\n",
       "      <td>Bose SoundSport Headphones,Bose SoundSport Hea...</td>\n",
       "    </tr>\n",
       "  </tbody>\n",
       "</table>\n",
       "</div>"
      ],
      "text/plain": [
       "   Order ID                     Product  Quantity Ordered  Price Each  \\\n",
       "3    176560                Google Phone                 1         1.0   \n",
       "4    176560            Wired Headphones                 1         1.0   \n",
       "18   176574                Google Phone                 1         1.0   \n",
       "19   176574        USB-C Charging Cable                 1         1.0   \n",
       "30   176585  Bose SoundSport Headphones                 1         1.0   \n",
       "\n",
       "        Order Date                      Purchase Address  month  sales  \\\n",
       "3   04/12/19 14:38  669 Spruce St, Los Angeles, CA 90001      4    1.0   \n",
       "4   04/12/19 14:38  669 Spruce St, Los Angeles, CA 90001      4    1.0   \n",
       "18  04/03/19 19:42     20 Hill St, Los Angeles, CA 90001      4    1.0   \n",
       "19  04/03/19 19:42     20 Hill St, Los Angeles, CA 90001      4    1.0   \n",
       "30  04/07/19 11:31     823 Highland St, Boston, MA 02215      4    1.0   \n",
       "\n",
       "            city                                            Grouped  \n",
       "3    Los Angeles                      Google Phone,Wired Headphones  \n",
       "4    Los Angeles                      Google Phone,Wired Headphones  \n",
       "18   Los Angeles                  Google Phone,USB-C Charging Cable  \n",
       "19   Los Angeles                  Google Phone,USB-C Charging Cable  \n",
       "30        Boston  Bose SoundSport Headphones,Bose SoundSport Hea...  "
      ]
     },
     "execution_count": 57,
     "metadata": {},
     "output_type": "execute_result"
    }
   ],
   "source": [
    "df2.head()"
   ]
  },
  {
   "cell_type": "code",
   "execution_count": 59,
   "id": "104569e8",
   "metadata": {},
   "outputs": [],
   "source": [
    "df2 = df2.drop_duplicates(subset=['Order ID'])"
   ]
  },
  {
   "cell_type": "code",
   "execution_count": 60,
   "id": "473dd463",
   "metadata": {},
   "outputs": [
    {
     "data": {
      "text/html": [
       "<div>\n",
       "<style scoped>\n",
       "    .dataframe tbody tr th:only-of-type {\n",
       "        vertical-align: middle;\n",
       "    }\n",
       "\n",
       "    .dataframe tbody tr th {\n",
       "        vertical-align: top;\n",
       "    }\n",
       "\n",
       "    .dataframe thead th {\n",
       "        text-align: right;\n",
       "    }\n",
       "</style>\n",
       "<table border=\"1\" class=\"dataframe\">\n",
       "  <thead>\n",
       "    <tr style=\"text-align: right;\">\n",
       "      <th></th>\n",
       "      <th>Order ID</th>\n",
       "      <th>Product</th>\n",
       "      <th>Quantity Ordered</th>\n",
       "      <th>Price Each</th>\n",
       "      <th>Order Date</th>\n",
       "      <th>Purchase Address</th>\n",
       "      <th>month</th>\n",
       "      <th>sales</th>\n",
       "      <th>city</th>\n",
       "      <th>Grouped</th>\n",
       "    </tr>\n",
       "  </thead>\n",
       "  <tbody>\n",
       "    <tr>\n",
       "      <th>3</th>\n",
       "      <td>176560</td>\n",
       "      <td>Google Phone</td>\n",
       "      <td>1</td>\n",
       "      <td>1.0</td>\n",
       "      <td>04/12/19 14:38</td>\n",
       "      <td>669 Spruce St, Los Angeles, CA 90001</td>\n",
       "      <td>4</td>\n",
       "      <td>1.0</td>\n",
       "      <td>Los Angeles</td>\n",
       "      <td>Google Phone,Wired Headphones</td>\n",
       "    </tr>\n",
       "    <tr>\n",
       "      <th>18</th>\n",
       "      <td>176574</td>\n",
       "      <td>Google Phone</td>\n",
       "      <td>1</td>\n",
       "      <td>1.0</td>\n",
       "      <td>04/03/19 19:42</td>\n",
       "      <td>20 Hill St, Los Angeles, CA 90001</td>\n",
       "      <td>4</td>\n",
       "      <td>1.0</td>\n",
       "      <td>Los Angeles</td>\n",
       "      <td>Google Phone,USB-C Charging Cable</td>\n",
       "    </tr>\n",
       "    <tr>\n",
       "      <th>30</th>\n",
       "      <td>176585</td>\n",
       "      <td>Bose SoundSport Headphones</td>\n",
       "      <td>1</td>\n",
       "      <td>1.0</td>\n",
       "      <td>04/07/19 11:31</td>\n",
       "      <td>823 Highland St, Boston, MA 02215</td>\n",
       "      <td>4</td>\n",
       "      <td>1.0</td>\n",
       "      <td>Boston</td>\n",
       "      <td>Bose SoundSport Headphones,Bose SoundSport Hea...</td>\n",
       "    </tr>\n",
       "    <tr>\n",
       "      <th>32</th>\n",
       "      <td>176586</td>\n",
       "      <td>AAA Batteries (4-pack)</td>\n",
       "      <td>2</td>\n",
       "      <td>2.0</td>\n",
       "      <td>04/10/19 17:00</td>\n",
       "      <td>365 Center St, San Francisco, CA 94016</td>\n",
       "      <td>4</td>\n",
       "      <td>4.0</td>\n",
       "      <td>San Francisco</td>\n",
       "      <td>AAA Batteries (4-pack),Google Phone</td>\n",
       "    </tr>\n",
       "    <tr>\n",
       "      <th>119</th>\n",
       "      <td>176672</td>\n",
       "      <td>Lightning Charging Cable</td>\n",
       "      <td>1</td>\n",
       "      <td>1.0</td>\n",
       "      <td>04/12/19 11:07</td>\n",
       "      <td>778 Maple St, New York City, NY 10001</td>\n",
       "      <td>4</td>\n",
       "      <td>1.0</td>\n",
       "      <td>New York City</td>\n",
       "      <td>Lightning Charging Cable,USB-C Charging Cable</td>\n",
       "    </tr>\n",
       "  </tbody>\n",
       "</table>\n",
       "</div>"
      ],
      "text/plain": [
       "    Order ID                     Product  Quantity Ordered  Price Each  \\\n",
       "3     176560                Google Phone                 1         1.0   \n",
       "18    176574                Google Phone                 1         1.0   \n",
       "30    176585  Bose SoundSport Headphones                 1         1.0   \n",
       "32    176586      AAA Batteries (4-pack)                 2         2.0   \n",
       "119   176672    Lightning Charging Cable                 1         1.0   \n",
       "\n",
       "         Order Date                        Purchase Address  month  sales  \\\n",
       "3    04/12/19 14:38    669 Spruce St, Los Angeles, CA 90001      4    1.0   \n",
       "18   04/03/19 19:42       20 Hill St, Los Angeles, CA 90001      4    1.0   \n",
       "30   04/07/19 11:31       823 Highland St, Boston, MA 02215      4    1.0   \n",
       "32   04/10/19 17:00  365 Center St, San Francisco, CA 94016      4    4.0   \n",
       "119  04/12/19 11:07   778 Maple St, New York City, NY 10001      4    1.0   \n",
       "\n",
       "               city                                            Grouped  \n",
       "3       Los Angeles                      Google Phone,Wired Headphones  \n",
       "18      Los Angeles                  Google Phone,USB-C Charging Cable  \n",
       "30           Boston  Bose SoundSport Headphones,Bose SoundSport Hea...  \n",
       "32    San Francisco                AAA Batteries (4-pack),Google Phone  \n",
       "119   New York City      Lightning Charging Cable,USB-C Charging Cable  "
      ]
     },
     "execution_count": 60,
     "metadata": {},
     "output_type": "execute_result"
    }
   ],
   "source": [
    "df2.head()"
   ]
  },
  {
   "cell_type": "code",
   "execution_count": 61,
   "id": "da46ff0e",
   "metadata": {},
   "outputs": [
    {
     "data": {
      "text/plain": [
       "iPhone,Lightning Charging Cable                                            882\n",
       "Google Phone,USB-C Charging Cable                                          856\n",
       "iPhone,Wired Headphones                                                    361\n",
       "Vareebadd Phone,USB-C Charging Cable                                       312\n",
       "Google Phone,Wired Headphones                                              303\n",
       "                                                                          ... \n",
       "Google Phone,USB-C Charging Cable,Wired Headphones,USB-C Charging Cable      1\n",
       "34in Ultrawide Monitor,LG Washing Machine                                    1\n",
       "20in Monitor,iPhone                                                          1\n",
       "Google Phone,USB-C Charging Cable,Wired Headphones,27in FHD Monitor          1\n",
       "LG Washing Machine,AA Batteries (4-pack)                                     1\n",
       "Name: Grouped, Length: 366, dtype: int64"
      ]
     },
     "execution_count": 61,
     "metadata": {},
     "output_type": "execute_result"
    }
   ],
   "source": [
    "df2['Grouped'].value_counts()"
   ]
  },
  {
   "cell_type": "code",
   "execution_count": 66,
   "id": "c9bfe2bb",
   "metadata": {},
   "outputs": [
    {
     "data": {
      "text/plain": [
       "<AxesSubplot:ylabel='Grouped'>"
      ]
     },
     "execution_count": 66,
     "metadata": {},
     "output_type": "execute_result"
    },
    {
     "data": {
      "image/png": "[encoded data removed]",
      "text/plain": [
       "<Figure size 640x480 with 1 Axes>"
      ]
     },
     "metadata": {},
     "output_type": "display_data"
    }
   ],
   "source": [
    "df2['Grouped'].value_counts()[0:5].plot.pie()"
   ]
  },
  {
   "cell_type": "code",
   "execution_count": null,
   "id": "3c69cc8c",
   "metadata": {},
   "outputs": [],
   "source": []
  }
 ],
 "metadata": {
  "kernelspec": {
   "display_name": "Python 3 (ipykernel)",
   "language": "python",
   "name": "python3"
  },
  "language_info": {
   "codemirror_mode": {
    "name": "ipython",
    "version": 3
   },
   "file_extension": ".py",
   "mimetype": "text/x-python",
   "name": "python",
   "nbconvert_exporter": "python",
   "pygments_lexer": "ipython3",
   "version": "3.9.13"
  }
 },
 "nbformat": 4,
 "nbformat_minor": 5
}
